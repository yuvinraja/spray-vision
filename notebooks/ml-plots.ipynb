{
 "cells": [
  {
   "cell_type": "code",
   "execution_count": null,
   "id": "982d2f3e",
   "metadata": {},
   "outputs": [],
   "source": [
    "# Cell 1: Imports and data/model loading\n",
    "import pandas as pd\n",
    "import numpy as np\n",
    "import matplotlib.pyplot as plt\n",
    "import seaborn as sns\n",
    "from joblib import load\n",
    "\n",
    "DATA_PATH = \"data/processed/preprocessed_dataset.csv\"\n",
    "df = pd.read_csv(DATA_PATH)\n",
    "\n",
    "# YOU MUST update these paths according to your saved models (best per target)\n",
    "MODEL_PATHS = {\n",
    "    \"angle_shadow_deg\": \"data/models/final_model_angle_shadow_deg.joblib\",\n",
    "    \"len_shadow_L_D\": \"data/models/final_model_len_shadow_L_D.joblib\",\n",
    "    \"angle_mie_deg\": \"data/models/final_model_angle_mie_deg.joblib\",\n",
    "    \"len_mie_L_D\": \"data/models/final_model_len_mie_L_D.joblib\",\n",
    "}\n",
    "\n",
    "# All input features\n",
    "FEATURES = [\"Time_ms\",\"Pc_bar\",\"Tc_K\",\"Pinj_bar\",\"rho_kgm3\",\"mu_Pas\"]\n",
    "\n",
    "# You may want to ensure no missing values in features\n",
    "df = df.dropna(subset=FEATURES).reset_index(drop=True)\n"
   ]
  }
 ],
 "metadata": {
  "kernelspec": {
   "display_name": ".venv (3.12.2)",
   "language": "python",
   "name": "python3"
  },
  "language_info": {
   "name": "python",
   "version": "3.12.2"
  }
 },
 "nbformat": 4,
 "nbformat_minor": 5
}
